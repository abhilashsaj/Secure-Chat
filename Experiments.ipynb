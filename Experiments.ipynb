{
 "cells": [
  {
   "cell_type": "code",
   "execution_count": 25,
   "metadata": {},
   "outputs": [
    {
     "ename": "ValueError",
     "evalue": "Fernet key must be 32 url-safe base64-encoded bytes.",
     "output_type": "error",
     "traceback": [
      "\u001b[1;31m---------------------------------------------------------------------------\u001b[0m",
      "\u001b[1;31mValueError\u001b[0m                                Traceback (most recent call last)",
      "\u001b[1;32m<ipython-input-25-a01ca9dcf130>\u001b[0m in \u001b[0;36m<module>\u001b[1;34m\u001b[0m\n\u001b[0;32m      2\u001b[0m \u001b[1;31m# key = Fernet.generate_key()\u001b[0m\u001b[1;33m\u001b[0m\u001b[1;33m\u001b[0m\u001b[1;33m\u001b[0m\u001b[0m\n\u001b[0;32m      3\u001b[0m \u001b[0mkey\u001b[0m \u001b[1;33m=\u001b[0m \u001b[1;34mb\"abhilash\"\u001b[0m\u001b[1;33m\u001b[0m\u001b[1;33m\u001b[0m\u001b[0m\n\u001b[1;32m----> 4\u001b[1;33m \u001b[0mcipher_suite\u001b[0m \u001b[1;33m=\u001b[0m \u001b[0mFernet\u001b[0m\u001b[1;33m(\u001b[0m\u001b[0mkey\u001b[0m\u001b[1;33m)\u001b[0m\u001b[1;33m\u001b[0m\u001b[1;33m\u001b[0m\u001b[0m\n\u001b[0m\u001b[0;32m      5\u001b[0m \u001b[0mcipher_text\u001b[0m \u001b[1;33m=\u001b[0m \u001b[0mcipher_suite\u001b[0m\u001b[1;33m.\u001b[0m\u001b[0mencrypt\u001b[0m\u001b[1;33m(\u001b[0m\u001b[1;34mb\"A really secret message. Not for prying eyes.\"\u001b[0m\u001b[1;33m)\u001b[0m\u001b[1;33m\u001b[0m\u001b[1;33m\u001b[0m\u001b[0m\n\u001b[0;32m      6\u001b[0m \u001b[0mplain_text\u001b[0m \u001b[1;33m=\u001b[0m \u001b[0mcipher_suite\u001b[0m\u001b[1;33m.\u001b[0m\u001b[0mdecrypt\u001b[0m\u001b[1;33m(\u001b[0m\u001b[0mcipher_text\u001b[0m\u001b[1;33m)\u001b[0m\u001b[1;33m\u001b[0m\u001b[1;33m\u001b[0m\u001b[0m\n",
      "\u001b[1;32mC:\\ProgramData\\Anaconda3\\lib\\site-packages\\cryptography\\fernet.py\u001b[0m in \u001b[0;36m__init__\u001b[1;34m(self, key, backend)\u001b[0m\n\u001b[0;32m     35\u001b[0m         \u001b[1;32mif\u001b[0m \u001b[0mlen\u001b[0m\u001b[1;33m(\u001b[0m\u001b[0mkey\u001b[0m\u001b[1;33m)\u001b[0m \u001b[1;33m!=\u001b[0m \u001b[1;36m32\u001b[0m\u001b[1;33m:\u001b[0m\u001b[1;33m\u001b[0m\u001b[1;33m\u001b[0m\u001b[0m\n\u001b[0;32m     36\u001b[0m             raise ValueError(\n\u001b[1;32m---> 37\u001b[1;33m                 \u001b[1;34m\"Fernet key must be 32 url-safe base64-encoded bytes.\"\u001b[0m\u001b[1;33m\u001b[0m\u001b[1;33m\u001b[0m\u001b[0m\n\u001b[0m\u001b[0;32m     38\u001b[0m             )\n\u001b[0;32m     39\u001b[0m \u001b[1;33m\u001b[0m\u001b[0m\n",
      "\u001b[1;31mValueError\u001b[0m: Fernet key must be 32 url-safe base64-encoded bytes."
     ]
    }
   ],
   "source": [
    "from cryptography.fernet import Fernet\n",
    "# key = Fernet.generate_key()\n",
    "key = b\"abhilash\"\n",
    "cipher_suite = Fernet(key)\n",
    "cipher_text = cipher_suite.encrypt(b\"A really secret message. Not for prying eyes.\")\n",
    "plain_text = cipher_suite.decrypt(cipher_text)"
   ]
  },
  {
   "cell_type": "code",
   "execution_count": 10,
   "metadata": {},
   "outputs": [
    {
     "data": {
      "text/plain": [
       "b'3coGF8I_sO6DsQpWXOSdctA9VDkqQ3zWTFGMbuVHz3w='"
      ]
     },
     "execution_count": 10,
     "metadata": {},
     "output_type": "execute_result"
    }
   ],
   "source": [
    "key"
   ]
  },
  {
   "cell_type": "code",
   "execution_count": 30,
   "metadata": {},
   "outputs": [
    {
     "name": "stdout",
     "output_type": "stream",
     "text": [
      "b'KWGVuol46jAHxb0LXGsPSeU-J6Ub_kHYbBkzsLShnUc='\n",
      "b'gAAAAABerTuUb-3kYZqiYqE9xcEtLqECmv3PqujcSRa1ye5vBlB1_sX1NuotGHjsthW84fXxVidQt7fWeSJ2Ff4j7SlDSMnPhA=='\n"
     ]
    },
    {
     "data": {
      "text/plain": [
       "b'Secret message!'"
      ]
     },
     "execution_count": 30,
     "metadata": {},
     "output_type": "execute_result"
    }
   ],
   "source": [
    "import base64\n",
    "import os\n",
    "from cryptography.fernet import Fernet\n",
    "from cryptography.hazmat.backends import default_backend\n",
    "from cryptography.hazmat.primitives import hashes\n",
    "from cryptography.hazmat.primitives.kdf.pbkdf2 import PBKDF2HMAC\n",
    "\n",
    "password = b\"abhilash\"\n",
    "salt = os.urandom(16)\n",
    "kdf = PBKDF2HMAC(\n",
    "    algorithm=hashes.SHA512(),\n",
    "    length=32,\n",
    "    salt=salt,\n",
    "    iterations=100000,\n",
    "    backend=default_backend()\n",
    ")\n",
    "key = base64.urlsafe_b64encode(kdf.derive(password))\n",
    "print(key)\n",
    "f = Fernet(key)\n",
    "token = f.encrypt(b\"Secret message!\")\n",
    "print(token)\n",
    "f.decrypt(token)"
   ]
  },
  {
   "cell_type": "code",
   "execution_count": null,
   "metadata": {},
   "outputs": [],
   "source": []
  },
  {
   "cell_type": "code",
   "execution_count": null,
   "metadata": {},
   "outputs": [],
   "source": []
  }
 ],
 "metadata": {
  "kernelspec": {
   "display_name": "Python 3",
   "language": "python",
   "name": "python3"
  },
  "language_info": {
   "codemirror_mode": {
    "name": "ipython",
    "version": 3
   },
   "file_extension": ".py",
   "mimetype": "text/x-python",
   "name": "python",
   "nbconvert_exporter": "python",
   "pygments_lexer": "ipython3",
   "version": "3.7.1"
  }
 },
 "nbformat": 4,
 "nbformat_minor": 2
}
